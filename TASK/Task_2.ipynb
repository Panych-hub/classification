{
 "cells": [
  {
   "cell_type": "code",
   "execution_count": 2,
   "metadata": {},
   "outputs": [],
   "source": [
    "import numpy as np\n",
    "import scipy as sp\n",
    "import matplotlib.pyplot as plt\n",
    "import seaborn as sns\n",
    "\n",
    "%matplotlib inline"
   ]
  },
  {
   "cell_type": "markdown",
   "metadata": {},
   "source": [
    "# 1. Работа с массивами NumPy"
   ]
  },
  {
   "cell_type": "markdown",
   "metadata": {},
   "source": [
    "**N. Все упражнения ниже нужно делать без использования циклов Python**\n",
    "\n",
    "**1.** Cоздать вектор\n",
    "\n",
    "$$(2, \\frac{2^2}{2}, \\ldots, \\frac{2^{20}}{20})$$\n",
    "\n",
    "Можно использовать функции [np.arange()](http://docs.scipy.org/doc/numpy/reference/generated/numpy.arange.html), [np.ones()](http://docs.scipy.org/doc/numpy/reference/generated/numpy.ones.html)"
   ]
  },
  {
   "cell_type": "code",
   "execution_count": 23,
   "metadata": {},
   "outputs": [
    {
     "data": {
      "text/plain": [
       "array([2.00000000e+00, 2.00000000e+00, 2.66666667e+00, 4.00000000e+00,\n",
       "       6.40000000e+00, 1.06666667e+01, 1.82857143e+01, 3.20000000e+01,\n",
       "       5.68888889e+01, 1.02400000e+02, 1.86181818e+02, 3.41333333e+02,\n",
       "       6.30153846e+02, 1.17028571e+03, 2.18453333e+03, 4.09600000e+03,\n",
       "       7.71011765e+03, 1.45635556e+04, 2.75941053e+04, 5.24288000e+04])"
      ]
     },
     "execution_count": 23,
     "metadata": {},
     "output_type": "execute_result"
    }
   ],
   "source": [
    "i = np.arange(1, 21)\n",
    "a = 2 ** i / i\n",
    "a"
   ]
  },
  {
   "cell_type": "markdown",
   "metadata": {},
   "source": [
    "**2.** Посчитать:\n",
    "\n",
    "$$\\sum\\limits_{i=0}^{5}{0.1^{3i}0.2^{4i}}$$\n"
   ]
  },
  {
   "cell_type": "code",
   "execution_count": 24,
   "metadata": {},
   "outputs": [
    {
     "data": {
      "text/plain": [
       "1.00000160000256"
      ]
     },
     "execution_count": 24,
     "metadata": {},
     "output_type": "execute_result"
    }
   ],
   "source": [
    "i = np.arange(0, 6)\n",
    "a = 0.1 ** (3 * i) * 0.2 ** (4 * i)\n",
    "a.sum()"
   ]
  },
  {
   "cell_type": "markdown",
   "metadata": {},
   "source": [
    "**3.** Создать нулевую матрицe $8 \\times 8$, и заполнить её единицами в шахматном порядке."
   ]
  },
  {
   "cell_type": "markdown",
   "metadata": {},
   "source": [
    "https://pythonworld.ru/numpy/100-exercises.html"
   ]
  },
  {
   "cell_type": "markdown",
   "metadata": {},
   "source": [
    "1"
   ]
  },
  {
   "cell_type": "code",
   "execution_count": 37,
   "metadata": {},
   "outputs": [
    {
     "data": {
      "text/plain": [
       "array([[0, 1, 0, 1, 0, 1, 0, 1],\n",
       "       [1, 0, 1, 0, 1, 0, 1, 0],\n",
       "       [0, 1, 0, 1, 0, 1, 0, 1],\n",
       "       [1, 0, 1, 0, 1, 0, 1, 0],\n",
       "       [0, 1, 0, 1, 0, 1, 0, 1],\n",
       "       [1, 0, 1, 0, 1, 0, 1, 0],\n",
       "       [0, 1, 0, 1, 0, 1, 0, 1],\n",
       "       [1, 0, 1, 0, 1, 0, 1, 0]])"
      ]
     },
     "execution_count": 37,
     "metadata": {},
     "output_type": "execute_result"
    }
   ],
   "source": [
    "Z = np.zeros((8,8), dtype=int)\n",
    "Z[1::2,::2] = 1\n",
    "Z[::2,1::2] = 1\n",
    "Z"
   ]
  },
  {
   "cell_type": "markdown",
   "metadata": {},
   "source": [
    "2"
   ]
  },
  {
   "cell_type": "code",
   "execution_count": 3,
   "metadata": {},
   "outputs": [
    {
     "data": {
      "text/plain": [
       "array([[1., 0., 1., 0., 1., 0., 1., 0.],\n",
       "       [0., 1., 0., 1., 0., 1., 0., 1.],\n",
       "       [1., 0., 1., 0., 1., 0., 1., 0.],\n",
       "       [0., 1., 0., 1., 0., 1., 0., 1.],\n",
       "       [1., 0., 1., 0., 1., 0., 1., 0.],\n",
       "       [0., 1., 0., 1., 0., 1., 0., 1.],\n",
       "       [1., 0., 1., 0., 1., 0., 1., 0.],\n",
       "       [0., 1., 0., 1., 0., 1., 0., 1.]])"
      ]
     },
     "execution_count": 3,
     "metadata": {},
     "output_type": "execute_result"
    }
   ],
   "source": [
    "zeros = np.zeros((8,8))\n",
    "np.where(np.indices(zeros.shape).sum(axis=0)%2, zeros, 1)"
   ]
  },
  {
   "cell_type": "markdown",
   "metadata": {},
   "source": [
    "3"
   ]
  },
  {
   "cell_type": "code",
   "execution_count": 132,
   "metadata": {},
   "outputs": [
    {
     "name": "stdout",
     "output_type": "stream",
     "text": [
      "[[0 1 0 1 0 1 0 1]\n",
      " [1 0 1 0 1 0 1 0]\n",
      " [0 1 0 1 0 1 0 1]\n",
      " [1 0 1 0 1 0 1 0]\n",
      " [0 1 0 1 0 1 0 1]\n",
      " [1 0 1 0 1 0 1 0]\n",
      " [0 1 0 1 0 1 0 1]\n",
      " [1 0 1 0 1 0 1 0]]\n"
     ]
    }
   ],
   "source": [
    "Z = np.tile(np.array([[0,1],[1,0]]), (4,4))\n",
    "print(Z)"
   ]
  },
  {
   "cell_type": "markdown",
   "metadata": {},
   "source": [
    "**4.** Есть 5 точек в декартовой системе координат (в виде матрицы $X$ размерностью $5 \\times 2$), сконвертируйте эти точки в полярную систему координат."
   ]
  },
  {
   "cell_type": "code",
   "execution_count": 33,
   "metadata": {},
   "outputs": [],
   "source": [
    "X = np.random.random((5, 2))\n",
    "# a = np.array([[1, -1], [2, 4]])\n",
    "u, p = sp.linalg.polar(X)"
   ]
  },
  {
   "cell_type": "code",
   "execution_count": 35,
   "metadata": {},
   "outputs": [
    {
     "data": {
      "text/plain": [
       "(array([[0.93885727, 0.04806344],\n",
       "        [0.64743459, 0.09021671],\n",
       "        [0.70794849, 0.46024467],\n",
       "        [0.15432393, 0.463041  ],\n",
       "        [0.09730158, 0.47839068]]), array([[ 0.74304406, -0.1880315 ],\n",
       "        [ 0.49692608, -0.0506376 ],\n",
       "        [ 0.44532016,  0.44533553],\n",
       "        [-0.00128107,  0.59933143],\n",
       "        [-0.05136441,  0.63604882]]), array([[1.32940765, 0.26033508],\n",
       "        [0.26033508, 0.77315235]]))"
      ]
     },
     "execution_count": 35,
     "metadata": {},
     "output_type": "execute_result"
    }
   ],
   "source": [
    "X, u, p"
   ]
  },
  {
   "cell_type": "markdown",
   "metadata": {},
   "source": [
    "**5.** Найдите индексы максимального элемента в случайной матрице $10 \\times 10$.\n",
    "\n",
    "Cм. [np.argmax()](http://docs.scipy.org/doc/numpy/reference/generated/numpy.argmax.html)."
   ]
  },
  {
   "cell_type": "code",
   "execution_count": 50,
   "metadata": {},
   "outputs": [
    {
     "data": {
      "text/plain": [
       "0.9967230173404253"
      ]
     },
     "execution_count": 50,
     "metadata": {},
     "output_type": "execute_result"
    }
   ],
   "source": [
    "X = np.random.random((10, 10))\n",
    "ind = np.unravel_index(np.argmax(X), np.shape(X))\n",
    "X[ind]"
   ]
  },
  {
   "cell_type": "markdown",
   "metadata": {},
   "source": [
    " \n"
   ]
  },
  {
   "cell_type": "markdown",
   "metadata": {},
   "source": [
    "**6.** Есть 10 точек ($X$) и ещё одна ($y$). Найти в $X$ ближайшую к $y$ точку."
   ]
  },
  {
   "cell_type": "code",
   "execution_count": 97,
   "metadata": {},
   "outputs": [
    {
     "data": {
      "text/plain": [
       "array([0.68332421, 0.6602582 ])"
      ]
     },
     "execution_count": 97,
     "metadata": {},
     "output_type": "execute_result"
    }
   ],
   "source": [
    "X = np.random.random((10, 2))\n",
    "y = np.random.random((1, 2))\n",
    "X[np.linalg.norm(X - y, axis = 1).argmin()]"
   ]
  },
  {
   "cell_type": "markdown",
   "metadata": {},
   "source": [
    "**7.** Дана функция:\n",
    "\n",
    "$$\n",
    " \\begin{cases}\n",
    "    x^2 + 2x + 6, & x < 0  \\\\\n",
    "    x + 6, & 0 \\le x \\le 2 \\\\\n",
    "    x^2 + 4x - 4, & x \\ge 2\n",
    " \\end{cases}\n",
    "$$\n",
    "\n",
    "Постройте массив из её значений на  $-3 \\le x \\le 3$."
   ]
  },
  {
   "cell_type": "code",
   "execution_count": 103,
   "metadata": {},
   "outputs": [],
   "source": [
    "x = np.linspace(-3, 3, 100)"
   ]
  },
  {
   "cell_type": "code",
   "execution_count": 104,
   "metadata": {},
   "outputs": [
    {
     "data": {
      "text/plain": [
       "array([ 9.        ,  8.76124885,  8.52984389,  8.30578512,  8.08907254,\n",
       "        7.87970615,  7.67768595,  7.48301194,  7.29568411,  7.11570248,\n",
       "        6.94306703,  6.77777778,  6.61983471,  6.46923783,  6.32598714,\n",
       "        6.19008264,  6.06152433,  5.94031221,  5.82644628,  5.71992654,\n",
       "        5.62075298,  5.52892562,  5.44444444,  5.36730946,  5.29752066,\n",
       "        5.23507805,  5.17998163,  5.1322314 ,  5.09182736,  5.05876951,\n",
       "        5.03305785,  5.01469238,  5.00367309,  5.        ,  5.00367309,\n",
       "        5.01469238,  5.03305785,  5.05876951,  5.09182736,  5.1322314 ,\n",
       "        5.17998163,  5.23507805,  5.29752066,  5.36730946,  5.44444444,\n",
       "        5.52892562,  5.62075298,  5.71992654,  5.82644628,  5.94031221,\n",
       "        6.03030303,  6.09090909,  6.15151515,  6.21212121,  6.27272727,\n",
       "        6.33333333,  6.39393939,  6.45454545,  6.51515152,  6.57575758,\n",
       "        6.63636364,  6.6969697 ,  6.75757576,  6.81818182,  6.87878788,\n",
       "        6.93939394,  7.        ,  7.06060606,  7.12121212,  7.18181818,\n",
       "        7.24242424,  7.3030303 ,  7.36363636,  7.42424242,  7.48484848,\n",
       "        7.54545455,  7.60606061,  7.66666667,  7.72727273,  7.78787879,\n",
       "        7.84848485,  7.90909091,  7.96969697,  8.24334252,  8.73553719,\n",
       "        9.23507805,  9.74196511, 10.25619835, 10.77777778, 11.3067034 ,\n",
       "       11.84297521, 12.3865932 , 12.93755739, 13.49586777, 14.06152433,\n",
       "       14.63452709, 15.21487603, 15.80257117, 16.39761249, 17.        ])"
      ]
     },
     "execution_count": 104,
     "metadata": {},
     "output_type": "execute_result"
    }
   ],
   "source": [
    "np.piecewise(x, [x < 0, (0 <= x) * (x <= 2), x >= 2], [\n",
    "    lambda x: x**2 + 2*x + 6,\n",
    "    lambda x: x+6,\n",
    "    lambda x: x**2 + 4*x - 4\n",
    "])"
   ]
  },
  {
   "cell_type": "markdown",
   "metadata": {},
   "source": [
    "**8.** Из каждого элемента матрицы вычесть среднее арифметическое от всех элементов в соответствующей строке (после чего среднее значение каждой строки должно равняться нулю).\n",
    "\n",
    "Cм. [np.mean()](http://docs.scipy.org/doc/numpy/reference/generated/numpy.mean.html)."
   ]
  },
  {
   "cell_type": "code",
   "execution_count": 79,
   "metadata": {
    "scrolled": true
   },
   "outputs": [
    {
     "data": {
      "text/plain": [
       "array([-5.55111512e-17, -9.99200722e-17,  1.11022302e-17, -2.22044605e-17,\n",
       "        6.66133815e-17, -4.44089210e-17, -2.22044605e-17, -1.11022302e-16,\n",
       "        2.22044605e-17, -4.44089210e-17])"
      ]
     },
     "execution_count": 79,
     "metadata": {},
     "output_type": "execute_result"
    }
   ],
   "source": [
    "X = np.random.random((10, 10))\n",
    "(X - X.mean(axis = 1).reshape((10, 1))).mean(axis = 1)"
   ]
  },
  {
   "cell_type": "markdown",
   "metadata": {},
   "source": [
    "**9.** Есть массив из 1000 чисел, полученных из генератора случайных чисел, имеющий нормальное распределение. Посчитайте выборочное среднее и выборочную дисперсию. "
   ]
  },
  {
   "cell_type": "code",
   "execution_count": 84,
   "metadata": {},
   "outputs": [
    {
     "data": {
      "text/plain": [
       "(4.994152705316059, 3.80647309928487)"
      ]
     },
     "execution_count": 84,
     "metadata": {},
     "output_type": "execute_result"
    }
   ],
   "source": [
    "X = np.random.normal(loc=5, scale=2., size=1000)\n",
    "X.mean(), X.var()"
   ]
  },
  {
   "cell_type": "markdown",
   "metadata": {},
   "source": [
    "**10.** Создать матрицу:\n",
    "\n",
    "$$\n",
    "\\begin{pmatrix}\n",
    "0 & 1 & 2 & 3 & 4 \\\\\n",
    "1 & 2 & 3 & 4 & 0 \\\\\n",
    "2 & 3 & 4 & 0 & 1 \\\\\n",
    "3 & 4 & 0 & 1 & 2 \\\\\n",
    "4 & 0 & 1 & 2 & 3\n",
    "\\end{pmatrix}\n",
    "$$"
   ]
  },
  {
   "cell_type": "code",
   "execution_count": 138,
   "metadata": {},
   "outputs": [
    {
     "data": {
      "text/plain": [
       "array([[0, 1, 2, 3, 4],\n",
       "       [1, 2, 3, 4, 0],\n",
       "       [2, 3, 4, 0, 1],\n",
       "       [3, 4, 0, 1, 2],\n",
       "       [4, 0, 1, 2, 3]], dtype=int32)"
      ]
     },
     "execution_count": 138,
     "metadata": {},
     "output_type": "execute_result"
    }
   ],
   "source": [
    "np.indices([5, 5]).sum(axis=0)%5"
   ]
  },
  {
   "cell_type": "markdown",
   "metadata": {},
   "source": [
    "**11.** Есть следующий алгоритм семплинирования, на вход функции подается вектор из целых положительных чисел и число семплов."
   ]
  },
  {
   "cell_type": "code",
   "execution_count": 201,
   "metadata": {},
   "outputs": [
    {
     "data": {
      "text/plain": [
       "[0, 4, 0, 0, 4]"
      ]
     },
     "execution_count": 201,
     "metadata": {},
     "output_type": "execute_result"
    }
   ],
   "source": [
    "def sample(x, c):\n",
    "    assert len(x) > 0\n",
    "    \n",
    "    s = np.sum(x)\n",
    "    res = []\n",
    "    for _ in range(c):\n",
    "        val = s * np.random.random()\n",
    "        cur, idx = 0, 0 \n",
    "        while cur + x[idx] <= val:\n",
    "            cur += x[idx]\n",
    "            idx += 1\n",
    "            \n",
    "        res.append(idx)\n",
    "    return res\n",
    "\n",
    "            \n",
    "sample([50, 3, 1, 7, 20], 5)    "
   ]
  },
  {
   "cell_type": "markdown",
   "metadata": {},
   "source": [
    "Реализуйте данный алгоритм более оптимальным способом, без использования циклов."
   ]
  },
  {
   "cell_type": "code",
   "execution_count": 228,
   "metadata": {},
   "outputs": [
    {
     "name": "stdout",
     "output_type": "stream",
     "text": [
      "[ 9.18332218 39.15403536 65.71685341 24.89528249  9.43194895]\n"
     ]
    },
    {
     "data": {
      "text/plain": [
       "array([0, 0, 4, 0, 0], dtype=int64)"
      ]
     },
     "execution_count": 228,
     "metadata": {},
     "output_type": "execute_result"
    }
   ],
   "source": [
    "def sample_new(x, c):\n",
    "    assert len(x) > 0\n",
    "    \n",
    "    rand = np.random.random(c) * np.sum(x)     \n",
    "    matr = (x @ np.triu(np.ones(5))).reshape((5, 1)) \n",
    "    print(rand)\n",
    "    dif = rand - matr\n",
    "    \n",
    "    answ = np.where(dif < 0, dif, -np.inf).argmax(axis = 0)\n",
    "    \n",
    "    return answ\n",
    "sample_new([50, 3, 1, 7, 20], 5)    "
   ]
  }
 ],
 "metadata": {
  "kernelspec": {
   "display_name": "Python 3",
   "language": "python",
   "name": "python3"
  },
  "language_info": {
   "codemirror_mode": {
    "name": "ipython",
    "version": 3
   },
   "file_extension": ".py",
   "mimetype": "text/x-python",
   "name": "python",
   "nbconvert_exporter": "python",
   "pygments_lexer": "ipython3",
   "version": "3.7.2"
  }
 },
 "nbformat": 4,
 "nbformat_minor": 4
}
