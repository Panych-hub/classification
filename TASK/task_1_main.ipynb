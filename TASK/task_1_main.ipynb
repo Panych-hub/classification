{
 "cells": [
  {
   "cell_type": "markdown",
   "metadata": {},
   "source": [
    "# Задание 1\n",
    "\n",
    "[Свертка списка](https://ru.wikipedia.org/wiki/%D0%A1%D0%B2%D1%91%D1%80%D1%82%D0%BA%D0%B0_%D1%81%D0%BF%D0%B8%D1%81%D0%BA%D0%B0) -  это обобщенная операция над списком, c помощью которой можно преобразовать список в единое значение. Например, рассмотрим реализации свертки слева и свертки справа (левоассоциативную свертку и правоассоциативную свертку):"
   ]
  },
  {
   "cell_type": "code",
   "execution_count": 1,
   "metadata": {},
   "outputs": [],
   "source": [
    "def foldl(f, x0, lst):\n",
    "    print(f, x0, lst)\n",
    "    if not lst:\n",
    "        return x0\n",
    "    return foldl(f, f(x0, lst[0]), lst[1:])\n",
    "\n",
    "def foldr(f, x0, lst):\n",
    "    print(f, x0, lst)\n",
    "    if not lst:\n",
    "        return x0\n",
    "    return f(lst[0], foldr(f, x0, lst[1:]))"
   ]
  },
  {
   "cell_type": "code",
   "execution_count": 2,
   "metadata": {},
   "outputs": [
    {
     "name": "stdout",
     "output_type": "stream",
     "text": [
      "<function <lambda> at 0x000001D6735232F0> 0 [1, 2, 3]\n",
      "<function <lambda> at 0x000001D6735232F0> 1 [2, 3]\n",
      "<function <lambda> at 0x000001D6735232F0> 3 [3]\n",
      "<function <lambda> at 0x000001D6735232F0> 6 []\n",
      "<function <lambda> at 0x000001D6735232F0> 0 [1, 2, 3]\n",
      "<function <lambda> at 0x000001D6735232F0> 0 [2, 3]\n",
      "<function <lambda> at 0x000001D6735232F0> 0 [3]\n",
      "<function <lambda> at 0x000001D6735232F0> 0 []\n"
     ]
    },
    {
     "data": {
      "text/plain": [
       "(6, 6)"
      ]
     },
     "execution_count": 2,
     "metadata": {},
     "output_type": "execute_result"
    }
   ],
   "source": [
    "#сумма\n",
    "foldl(lambda x, y: x + y, 0, [1, 2, 3]), foldr(lambda x, y: x + y, 0, [1, 2, 3])"
   ]
  },
  {
   "cell_type": "code",
   "execution_count": 3,
   "metadata": {},
   "outputs": [
    {
     "name": "stdout",
     "output_type": "stream",
     "text": [
      "<function <lambda> at 0x000001D673523598>  [1, 2, 3]\n",
      "<function <lambda> at 0x000001D673523598> 1 [2, 3]\n",
      "<function <lambda> at 0x000001D673523598> 12 [3]\n",
      "<function <lambda> at 0x000001D673523598> 123 []\n",
      "<function <lambda> at 0x000001D673523598>  [1, 2, 3]\n",
      "<function <lambda> at 0x000001D673523598>  [2, 3]\n",
      "<function <lambda> at 0x000001D673523598>  [3]\n",
      "<function <lambda> at 0x000001D673523598>  []\n"
     ]
    },
    {
     "data": {
      "text/plain": [
       "('123', '123')"
      ]
     },
     "execution_count": 3,
     "metadata": {},
     "output_type": "execute_result"
    }
   ],
   "source": [
    "#конкатенация\n",
    "foldl(lambda x, y: '{}{}'.format(x, y), '', [1, 2, 3]), foldr(lambda x, y: '{}{}'.format(x, y), '', [1, 2, 3])"
   ]
  },
  {
   "cell_type": "code",
   "execution_count": 4,
   "metadata": {},
   "outputs": [
    {
     "name": "stdout",
     "output_type": "stream",
     "text": [
      "<function <lambda> at 0x000001D673523A60> 1 [1, 2, 3]\n",
      "<function <lambda> at 0x000001D673523A60> 1.0 [2, 3]\n",
      "<function <lambda> at 0x000001D673523A60> 0.5 [3]\n",
      "<function <lambda> at 0x000001D673523A60> 0.16666666666666666 []\n",
      "<function <lambda> at 0x000001D673523A60> 1 [1, 2, 3]\n",
      "<function <lambda> at 0x000001D673523A60> 1 [2, 3]\n",
      "<function <lambda> at 0x000001D673523A60> 1 [3]\n",
      "<function <lambda> at 0x000001D673523A60> 1 []\n"
     ]
    },
    {
     "data": {
      "text/plain": [
       "(0.16666666666666666, 1.5)"
      ]
     },
     "execution_count": 4,
     "metadata": {},
     "output_type": "execute_result"
    }
   ],
   "source": [
    "f = lambda x, y: x / y\n",
    "foldl(f, 1, [1, 2, 3]), \\\n",
    "foldr(f, 1, [1, 2, 3])"
   ]
  },
  {
   "cell_type": "markdown",
   "metadata": {},
   "source": [
    "Задача: реализовать foldl через foldr и наоборот. Вместо многоточий нужно вставить выражения, которые бы привели к нужному результату."
   ]
  },
  {
   "cell_type": "code",
   "execution_count": 5,
   "metadata": {},
   "outputs": [],
   "source": [
    "def foldl2(f, x0, lst):\n",
    "    return foldr(..., ..., lst)(...)"
   ]
  },
  {
   "cell_type": "code",
   "execution_count": 6,
   "metadata": {},
   "outputs": [],
   "source": [
    "def foldr2(f, x0, lst):\n",
    "    return foldl(..., ..., lst)(...)"
   ]
  },
  {
   "cell_type": "markdown",
   "metadata": {},
   "source": [
    "# Решение"
   ]
  },
  {
   "cell_type": "code",
   "execution_count": 7,
   "metadata": {},
   "outputs": [],
   "source": [
    "# foldl: (f ... (f (f start elem_1) elem_2) ... elem_n), \n",
    "# foldr: (f elem_1 (f elem_2 ... (f elem_n start) ... ))"
   ]
  },
  {
   "attachments": {
    "image.png": {
     "image/png": "[encoded data removed]"
    }
   },
   "cell_type": "markdown",
   "metadata": {},
   "source": [
    "![image.png](attachment:image.png)"
   ]
  },
  {
   "attachments": {
    "image.png": {
     "image/png": "[encoded data removed]"
    }
   },
   "cell_type": "markdown",
   "metadata": {},
   "source": [
    "![image.png](attachment:image.png)"
   ]
  },
  {
   "cell_type": "markdown",
   "metadata": {},
   "source": [
    "# https://eli.thegreenplace.net/2017/right-and-left-folds-primitive-recursion-patterns-in-python-and-haskell/"
   ]
  },
  {
   "cell_type": "code",
   "execution_count": 8,
   "metadata": {},
   "outputs": [],
   "source": [
    "def foldl2(f, x0, lst):\n",
    "    return foldr(lambda x, fn: lambda y: fn(f(y, x)), lambda x: x, lst)(x0)"
   ]
  },
  {
   "cell_type": "code",
   "execution_count": 9,
   "metadata": {},
   "outputs": [],
   "source": [
    "def foldr2(f, x0, lst):\n",
    "    return foldl(lambda fn, x: lambda y: fn(f(x, y)), lambda x: x, lst)(x0)"
   ]
  },
  {
   "cell_type": "code",
   "execution_count": 10,
   "metadata": {
    "collapsed": true
   },
   "outputs": [
    {
     "name": "stdout",
     "output_type": "stream",
     "text": [
      "<function <lambda> at 0x000001D673523E18> 1 [1, 2, 3]\n",
      "<function <lambda> at 0x000001D673523E18> 1.0 [2, 3]\n",
      "<function <lambda> at 0x000001D673523E18> 0.5 [3]\n",
      "<function <lambda> at 0x000001D673523E18> 0.16666666666666666 []\n",
      "<function foldl2.<locals>.<lambda> at 0x000001D673554730> <function foldl2.<locals>.<lambda> at 0x000001D6735547B8> [1, 2, 3]\n",
      "<function foldl2.<locals>.<lambda> at 0x000001D673554730> <function foldl2.<locals>.<lambda> at 0x000001D6735547B8> [2, 3]\n",
      "<function foldl2.<locals>.<lambda> at 0x000001D673554730> <function foldl2.<locals>.<lambda> at 0x000001D6735547B8> [3]\n",
      "<function foldl2.<locals>.<lambda> at 0x000001D673554730> <function foldl2.<locals>.<lambda> at 0x000001D6735547B8> []\n",
      "<function <lambda> at 0x000001D673523E18> 1 [1, 2, 3]\n",
      "<function <lambda> at 0x000001D673523E18> 1 [2, 3]\n",
      "<function <lambda> at 0x000001D673523E18> 1 [3]\n",
      "<function <lambda> at 0x000001D673523E18> 1 []\n",
      "<function foldr2.<locals>.<lambda> at 0x000001D6735501E0> <function foldr2.<locals>.<lambda> at 0x000001D673550268> [1, 2, 3]\n",
      "<function foldr2.<locals>.<lambda> at 0x000001D6735501E0> <function foldr2.<locals>.<lambda>.<locals>.<lambda> at 0x000001D673550620> [2, 3]\n",
      "<function foldr2.<locals>.<lambda> at 0x000001D6735501E0> <function foldr2.<locals>.<lambda>.<locals>.<lambda> at 0x000001D6735509D8> [3]\n",
      "<function foldr2.<locals>.<lambda> at 0x000001D6735501E0> <function foldr2.<locals>.<lambda>.<locals>.<lambda> at 0x000001D673550D90> []\n"
     ]
    },
    {
     "data": {
      "text/plain": [
       "(0.16666666666666666, 0.16666666666666666, 1.5, 1.5)"
      ]
     },
     "execution_count": 10,
     "metadata": {},
     "output_type": "execute_result"
    }
   ],
   "source": [
    "f = lambda x, y: x / y\n",
    "foldl(f, 1, [1, 2, 3]), \\\n",
    "foldl2(f, 1, [1, 2, 3]), \\\n",
    "foldr(f, 1, [1, 2, 3]), \\\n",
    "foldr2(f, 1, [1, 2, 3])"
   ]
  },
  {
   "cell_type": "code",
   "execution_count": 11,
   "metadata": {
    "collapsed": true
   },
   "outputs": [
    {
     "name": "stdout",
     "output_type": "stream",
     "text": [
      "<function <lambda> at 0x000001D6735238C8> 0 [1, 2, 3]\n",
      "<function <lambda> at 0x000001D6735238C8> 1 [2, 3]\n",
      "<function <lambda> at 0x000001D6735238C8> 3 [3]\n",
      "<function <lambda> at 0x000001D6735238C8> 6 []\n",
      "<function foldl2.<locals>.<lambda> at 0x000001D673550730> <function foldl2.<locals>.<lambda> at 0x000001D6735507B8> [1, 2, 3]\n",
      "<function foldl2.<locals>.<lambda> at 0x000001D673550730> <function foldl2.<locals>.<lambda> at 0x000001D6735507B8> [2, 3]\n",
      "<function foldl2.<locals>.<lambda> at 0x000001D673550730> <function foldl2.<locals>.<lambda> at 0x000001D6735507B8> [3]\n",
      "<function foldl2.<locals>.<lambda> at 0x000001D673550730> <function foldl2.<locals>.<lambda> at 0x000001D6735507B8> []\n",
      "<function <lambda> at 0x000001D6735238C8> 0 [1, 2, 3]\n",
      "<function <lambda> at 0x000001D6735238C8> 0 [2, 3]\n",
      "<function <lambda> at 0x000001D6735238C8> 0 [3]\n",
      "<function <lambda> at 0x000001D6735238C8> 0 []\n",
      "<function foldr2.<locals>.<lambda> at 0x000001D673556158> <function foldr2.<locals>.<lambda> at 0x000001D6735561E0> [1, 2, 3]\n",
      "<function foldr2.<locals>.<lambda> at 0x000001D673556158> <function foldr2.<locals>.<lambda>.<locals>.<lambda> at 0x000001D673556598> [2, 3]\n",
      "<function foldr2.<locals>.<lambda> at 0x000001D673556158> <function foldr2.<locals>.<lambda>.<locals>.<lambda> at 0x000001D673556950> [3]\n",
      "<function foldr2.<locals>.<lambda> at 0x000001D673556158> <function foldr2.<locals>.<lambda>.<locals>.<lambda> at 0x000001D673523510> []\n"
     ]
    },
    {
     "data": {
      "text/plain": [
       "(6, 6, 6, 6)"
      ]
     },
     "execution_count": 11,
     "metadata": {},
     "output_type": "execute_result"
    }
   ],
   "source": [
    "f = lambda x, y: x + y\n",
    "foldl(f, 0, [1, 2, 3]), \\\n",
    "foldl2(f, 0, [1, 2, 3]), \\\n",
    "foldr(f, 0, [1, 2, 3]), \\\n",
    "foldr2(f, 0, [1, 2, 3])"
   ]
  },
  {
   "cell_type": "code",
   "execution_count": 12,
   "metadata": {
    "collapsed": true
   },
   "outputs": [
    {
     "name": "stdout",
     "output_type": "stream",
     "text": [
      "<function <lambda> at 0x000001D673523F28>  [1, 2, 3]\n",
      "<function <lambda> at 0x000001D673523F28> 1 [2, 3]\n",
      "<function <lambda> at 0x000001D673523F28> 12 [3]\n",
      "<function <lambda> at 0x000001D673523F28> 123 []\n",
      "<function foldl2.<locals>.<lambda> at 0x000001D673556730> <function foldl2.<locals>.<lambda> at 0x000001D6735567B8> [1, 2, 3]\n",
      "<function foldl2.<locals>.<lambda> at 0x000001D673556730> <function foldl2.<locals>.<lambda> at 0x000001D6735567B8> [2, 3]\n",
      "<function foldl2.<locals>.<lambda> at 0x000001D673556730> <function foldl2.<locals>.<lambda> at 0x000001D6735567B8> [3]\n",
      "<function foldl2.<locals>.<lambda> at 0x000001D673556730> <function foldl2.<locals>.<lambda> at 0x000001D6735567B8> []\n",
      "<function <lambda> at 0x000001D673523F28>  [1, 2, 3]\n",
      "<function <lambda> at 0x000001D673523F28>  [2, 3]\n",
      "<function <lambda> at 0x000001D673523F28>  [3]\n",
      "<function <lambda> at 0x000001D673523F28>  []\n",
      "<function foldr2.<locals>.<lambda> at 0x000001D6735521E0> <function foldr2.<locals>.<lambda> at 0x000001D673552268> [1, 2, 3]\n",
      "<function foldr2.<locals>.<lambda> at 0x000001D6735521E0> <function foldr2.<locals>.<lambda>.<locals>.<lambda> at 0x000001D673552620> [2, 3]\n",
      "<function foldr2.<locals>.<lambda> at 0x000001D6735521E0> <function foldr2.<locals>.<lambda>.<locals>.<lambda> at 0x000001D6735529D8> [3]\n",
      "<function foldr2.<locals>.<lambda> at 0x000001D6735521E0> <function foldr2.<locals>.<lambda>.<locals>.<lambda> at 0x000001D673552D90> []\n"
     ]
    },
    {
     "data": {
      "text/plain": [
       "('123', '123', '123', '123')"
      ]
     },
     "execution_count": 12,
     "metadata": {},
     "output_type": "execute_result"
    }
   ],
   "source": [
    "f = lambda x, y: '{}{}'.format(x, y)\n",
    "foldl(f, '', [1, 2, 3]), \\\n",
    "foldl2(f, '', [1, 2, 3]), \\\n",
    "foldr(f, '', [1, 2, 3]), \\\n",
    "foldr2(f, '', [1, 2, 3])\n"
   ]
  },
  {
   "cell_type": "markdown",
   "metadata": {},
   "source": [
    "# Задание 2\n",
    "\n",
    "нужно написать функцию, которая принимает две строки и проверяет, входит ли хотя бы одна перестановка второй строки в первую. Например:\n",
    "\n",
    "> a = 'abcrotm'\n",
    "> \n",
    "> b = 'tro'\n",
    "\n",
    "функция def check_inv(a, b) вернет True, так как 'rot' содержится в 'abcrotm'. Нужно подумать как можно более оптимальный алгоритм и оценить его сложность. "
   ]
  },
  {
   "cell_type": "code",
   "execution_count": 2,
   "metadata": {},
   "outputs": [],
   "source": [
    "def check_inv(a, b):\n",
    "    pass"
   ]
  },
  {
   "cell_type": "markdown",
   "metadata": {},
   "source": [
    "# Решение"
   ]
  },
  {
   "cell_type": "code",
   "execution_count": 10,
   "metadata": {},
   "outputs": [],
   "source": [
    "def check_inv(a, b):\n",
    "    b_copy = list(b)\n",
    "    for i, _ in enumerate(a):\n",
    "        if a[i] in b_copy:\n",
    "            b_copy.remove(a[i])\n",
    "            if not b_copy:\n",
    "                return True\n",
    "        else:\n",
    "            b_copy = list(b)\n",
    "    return False"
   ]
  },
  {
   "cell_type": "code",
   "execution_count": 11,
   "metadata": {},
   "outputs": [
    {
     "name": "stdout",
     "output_type": "stream",
     "text": [
      "['t', 'o', 'o']\n",
      "['t', 'o']\n",
      "['o']\n"
     ]
    },
    {
     "data": {
      "text/plain": [
       "False"
      ]
     },
     "execution_count": 11,
     "metadata": {},
     "output_type": "execute_result"
    }
   ],
   "source": [
    "a = 'abcrotm'\n",
    "b = 'tro'\n",
    "check_inv(a, b)"
   ]
  },
  {
   "cell_type": "markdown",
   "metadata": {},
   "source": [
    "# Задание 3\n",
    "\n",
    "Реализовать бинарное дерево (класс Tree), в нём методы __repr__, __str__, __iter__ (итерация только по листьям)."
   ]
  },
  {
   "cell_type": "code",
   "execution_count": 88,
   "metadata": {},
   "outputs": [],
   "source": [
    "# class Tree:\n",
    "#     def __init__(self, value=None, left=None, right=None):\n",
    "#         self.left = left\n",
    "#         self.right = right\n",
    "#         self.value = value\n",
    "        \n",
    "#     def __iter__(self):\n",
    "#         pass\n",
    "    \n",
    "#     def __str__(self):\n",
    "#         pass\n",
    "    \n",
    "#     def __repr__(self):\n",
    "#         pass\n",
    "    \n",
    "# tree = Tree(0, Tree(1, Tree(3), Tree(4)),                             \n",
    "#                Tree(2))\n",
    "\n",
    "# list(tree) == [3, 4, 2]"
   ]
  },
  {
   "cell_type": "markdown",
   "metadata": {},
   "source": [
    "# Решение"
   ]
  },
  {
   "cell_type": "code",
   "execution_count": 18,
   "metadata": {},
   "outputs": [],
   "source": [
    "class Tree:\n",
    "    def __init__(self, value=None, left=None, right=None):\n",
    "        self.left = left\n",
    "        self.right = right\n",
    "        self.value = value\n",
    "        \n",
    "    def __iter__(self):\n",
    "        \n",
    "        iter_lst = list()\n",
    "        def iter_rec(tree):\n",
    "            if tree.left:\n",
    "                iter_rec(tree.left)\n",
    "            if tree.right:\n",
    "                iter_rec(tree.right)\n",
    "            if (tree.left == None and tree.right == None ):\n",
    "                iter_lst.append(tree.value)\n",
    "        iter_rec(self)\n",
    "        \n",
    "        return iter(iter_lst)\n",
    "        \n",
    "    \n",
    "    def __str__(self):   \n",
    "        \n",
    "        string = str(self.value)        \n",
    "        if self.left:\n",
    "            string += '(' +  str(self.left) + ')'\n",
    "        if self.right:\n",
    "            string += '(' +  str(self.right) + ')'\n",
    "       \n",
    "        return( string )\n",
    "   \n",
    "    def __repr__(self):\n",
    "        \n",
    "        string = 'Tree(' + str(self.value)\n",
    "        if self.left:\n",
    "            string += ', ' +  repr(self.left)\n",
    "        if self.right:\n",
    "            string += ', ' + repr(self.right) \n",
    "        string += ')'\n",
    "\n",
    "        return(string)\n"
   ]
  },
  {
   "cell_type": "code",
   "execution_count": 19,
   "metadata": {},
   "outputs": [
    {
     "name": "stdout",
     "output_type": "stream",
     "text": [
      "0(1(3)(4))(2)\n"
     ]
    }
   ],
   "source": [
    "tree = Tree(0, Tree(1, Tree(3), Tree(4)),                             \n",
    "               Tree(2))\n",
    "print(tree)"
   ]
  },
  {
   "cell_type": "code",
   "execution_count": 20,
   "metadata": {},
   "outputs": [
    {
     "data": {
      "text/plain": [
       "'Tree(0, Tree(1, Tree(3), Tree(4)), Tree(2))'"
      ]
     },
     "execution_count": 20,
     "metadata": {},
     "output_type": "execute_result"
    }
   ],
   "source": [
    "repr(tree)"
   ]
  },
  {
   "cell_type": "code",
   "execution_count": 21,
   "metadata": {
    "scrolled": true
   },
   "outputs": [
    {
     "data": {
      "text/plain": [
       "True"
      ]
     },
     "execution_count": 21,
     "metadata": {},
     "output_type": "execute_result"
    }
   ],
   "source": [
    "list(tree) == [3, 4, 2]"
   ]
  },
  {
   "cell_type": "markdown",
   "metadata": {},
   "source": [
    "# Задание 4\n",
    "\n",
    "Реализовать простейший калькулятор математических выражений:\n",
    "- только целые числа\n",
    "- **+**, **\\-**, **\\***, **\\**\n",
    "- скобки\n",
    "\n",
    "**Можно использовать регулярные выражения**"
   ]
  },
  {
   "cell_type": "code",
   "execution_count": null,
   "metadata": {},
   "outputs": [],
   "source": [
    "def calc(expr):\n",
    "    pass\n",
    "\n",
    "calc('2 * (15 - 3 * 4) - 2') == 4"
   ]
  },
  {
   "cell_type": "markdown",
   "metadata": {
    "collapsed": true
   },
   "source": [
    "# Решение"
   ]
  },
  {
   "cell_type": "code",
   "execution_count": null,
   "metadata": {},
   "outputs": [],
   "source": []
  }
 ],
 "metadata": {
  "kernelspec": {
   "display_name": "Python 3",
   "language": "python",
   "name": "python3"
  },
  "language_info": {
   "codemirror_mode": {
    "name": "ipython",
    "version": 3
   },
   "file_extension": ".py",
   "mimetype": "text/x-python",
   "name": "python",
   "nbconvert_exporter": "python",
   "pygments_lexer": "ipython3",
   "version": "3.7.2"
  }
 },
 "nbformat": 4,
 "nbformat_minor": 2
}
