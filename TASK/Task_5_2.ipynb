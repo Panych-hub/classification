{
 "cells": [
  {
   "cell_type": "markdown",
   "metadata": {},
   "source": [
    "### Часть 2\n",
    "Используя скаченные данные и `Pandas` (или `PySpark`) посчитайте:\n",
    "- явку (%) по всем ТИК, результат отсортировать по убыванию\n",
    "- выберите произвольного кандидата и найдите тот избиратльный участок, на котором он получил наибольший результат  (%, учитывать участки на которых проголосовало больше 100 человек)\n",
    "- найдите ТИК, где разница между УИК с наибольшей явкой и наименьшей максимальна\n",
    "- посчитайте дисперсию по явке для каждого ТИК (учитывать УИК)\n",
    "- для каждого кандидата посчитайте таблицу: результат (%, округленный до целого) - количество УИК, на которых кандидат получил данный результат\n",
    "- визуализируйте отношение - явка на УИК $\\rightarrow$ результат кандидата. "
   ]
  },
  {
   "cell_type": "code",
   "execution_count": 1,
   "metadata": {},
   "outputs": [],
   "source": [
    "import pandas as pd"
   ]
  },
  {
   "cell_type": "code",
   "execution_count": 2,
   "metadata": {},
   "outputs": [
    {
     "data": {
      "text/html": [
       "<div>\n",
       "<style scoped>\n",
       "    .dataframe tbody tr th:only-of-type {\n",
       "        vertical-align: middle;\n",
       "    }\n",
       "\n",
       "    .dataframe tbody tr th {\n",
       "        vertical-align: top;\n",
       "    }\n",
       "\n",
       "    .dataframe thead th {\n",
       "        text-align: right;\n",
       "    }\n",
       "</style>\n",
       "<table border=\"1\" class=\"dataframe\">\n",
       "  <thead>\n",
       "    <tr style=\"text-align: right;\">\n",
       "      <th></th>\n",
       "      <th>tik</th>\n",
       "      <th>yik</th>\n",
       "      <th>1</th>\n",
       "      <th>2</th>\n",
       "      <th>3</th>\n",
       "      <th>4</th>\n",
       "      <th>5</th>\n",
       "      <th>6</th>\n",
       "      <th>7</th>\n",
       "      <th>8</th>\n",
       "      <th>9</th>\n",
       "      <th>10</th>\n",
       "      <th>11</th>\n",
       "      <th>12</th>\n",
       "      <th>13</th>\n",
       "      <th>14</th>\n",
       "    </tr>\n",
       "  </thead>\n",
       "  <tbody>\n",
       "    <tr>\n",
       "      <th>0</th>\n",
       "      <td>1</td>\n",
       "      <td>1</td>\n",
       "      <td>1803</td>\n",
       "      <td>1200</td>\n",
       "      <td>587</td>\n",
       "      <td>11</td>\n",
       "      <td>602</td>\n",
       "      <td>11</td>\n",
       "      <td>587</td>\n",
       "      <td>23</td>\n",
       "      <td>575</td>\n",
       "      <td>0</td>\n",
       "      <td>0</td>\n",
       "      <td>110</td>\n",
       "      <td>345</td>\n",
       "      <td>120</td>\n",
       "    </tr>\n",
       "    <tr>\n",
       "      <th>1</th>\n",
       "      <td>1</td>\n",
       "      <td>2</td>\n",
       "      <td>1466</td>\n",
       "      <td>1100</td>\n",
       "      <td>433</td>\n",
       "      <td>14</td>\n",
       "      <td>653</td>\n",
       "      <td>14</td>\n",
       "      <td>430</td>\n",
       "      <td>19</td>\n",
       "      <td>425</td>\n",
       "      <td>0</td>\n",
       "      <td>0</td>\n",
       "      <td>53</td>\n",
       "      <td>326</td>\n",
       "      <td>46</td>\n",
       "    </tr>\n",
       "    <tr>\n",
       "      <th>2</th>\n",
       "      <td>1</td>\n",
       "      <td>3</td>\n",
       "      <td>2092</td>\n",
       "      <td>1600</td>\n",
       "      <td>576</td>\n",
       "      <td>22</td>\n",
       "      <td>1002</td>\n",
       "      <td>22</td>\n",
       "      <td>576</td>\n",
       "      <td>15</td>\n",
       "      <td>583</td>\n",
       "      <td>0</td>\n",
       "      <td>0</td>\n",
       "      <td>155</td>\n",
       "      <td>332</td>\n",
       "      <td>96</td>\n",
       "    </tr>\n",
       "    <tr>\n",
       "      <th>3</th>\n",
       "      <td>1</td>\n",
       "      <td>4</td>\n",
       "      <td>1056</td>\n",
       "      <td>1000</td>\n",
       "      <td>318</td>\n",
       "      <td>4</td>\n",
       "      <td>678</td>\n",
       "      <td>4</td>\n",
       "      <td>318</td>\n",
       "      <td>13</td>\n",
       "      <td>309</td>\n",
       "      <td>0</td>\n",
       "      <td>0</td>\n",
       "      <td>67</td>\n",
       "      <td>171</td>\n",
       "      <td>71</td>\n",
       "    </tr>\n",
       "    <tr>\n",
       "      <th>4</th>\n",
       "      <td>1</td>\n",
       "      <td>5</td>\n",
       "      <td>1827</td>\n",
       "      <td>1400</td>\n",
       "      <td>495</td>\n",
       "      <td>8</td>\n",
       "      <td>897</td>\n",
       "      <td>8</td>\n",
       "      <td>493</td>\n",
       "      <td>16</td>\n",
       "      <td>485</td>\n",
       "      <td>0</td>\n",
       "      <td>0</td>\n",
       "      <td>137</td>\n",
       "      <td>266</td>\n",
       "      <td>82</td>\n",
       "    </tr>\n",
       "    <tr>\n",
       "      <th>...</th>\n",
       "      <td>...</td>\n",
       "      <td>...</td>\n",
       "      <td>...</td>\n",
       "      <td>...</td>\n",
       "      <td>...</td>\n",
       "      <td>...</td>\n",
       "      <td>...</td>\n",
       "      <td>...</td>\n",
       "      <td>...</td>\n",
       "      <td>...</td>\n",
       "      <td>...</td>\n",
       "      <td>...</td>\n",
       "      <td>...</td>\n",
       "      <td>...</td>\n",
       "      <td>...</td>\n",
       "      <td>...</td>\n",
       "    </tr>\n",
       "    <tr>\n",
       "      <th>2016</th>\n",
       "      <td>30</td>\n",
       "      <td>2350</td>\n",
       "      <td>284</td>\n",
       "      <td>300</td>\n",
       "      <td>166</td>\n",
       "      <td>53</td>\n",
       "      <td>81</td>\n",
       "      <td>53</td>\n",
       "      <td>166</td>\n",
       "      <td>0</td>\n",
       "      <td>219</td>\n",
       "      <td>0</td>\n",
       "      <td>0</td>\n",
       "      <td>21</td>\n",
       "      <td>184</td>\n",
       "      <td>14</td>\n",
       "    </tr>\n",
       "    <tr>\n",
       "      <th>2017</th>\n",
       "      <td>30</td>\n",
       "      <td>2351</td>\n",
       "      <td>132</td>\n",
       "      <td>150</td>\n",
       "      <td>86</td>\n",
       "      <td>27</td>\n",
       "      <td>37</td>\n",
       "      <td>27</td>\n",
       "      <td>86</td>\n",
       "      <td>2</td>\n",
       "      <td>111</td>\n",
       "      <td>0</td>\n",
       "      <td>0</td>\n",
       "      <td>7</td>\n",
       "      <td>91</td>\n",
       "      <td>13</td>\n",
       "    </tr>\n",
       "    <tr>\n",
       "      <th>2018</th>\n",
       "      <td>30</td>\n",
       "      <td>2352</td>\n",
       "      <td>320</td>\n",
       "      <td>350</td>\n",
       "      <td>217</td>\n",
       "      <td>23</td>\n",
       "      <td>110</td>\n",
       "      <td>23</td>\n",
       "      <td>217</td>\n",
       "      <td>4</td>\n",
       "      <td>236</td>\n",
       "      <td>0</td>\n",
       "      <td>0</td>\n",
       "      <td>20</td>\n",
       "      <td>193</td>\n",
       "      <td>23</td>\n",
       "    </tr>\n",
       "    <tr>\n",
       "      <th>2019</th>\n",
       "      <td>30</td>\n",
       "      <td>2355</td>\n",
       "      <td>485</td>\n",
       "      <td>500</td>\n",
       "      <td>335</td>\n",
       "      <td>12</td>\n",
       "      <td>153</td>\n",
       "      <td>12</td>\n",
       "      <td>335</td>\n",
       "      <td>2</td>\n",
       "      <td>345</td>\n",
       "      <td>0</td>\n",
       "      <td>0</td>\n",
       "      <td>23</td>\n",
       "      <td>290</td>\n",
       "      <td>32</td>\n",
       "    </tr>\n",
       "    <tr>\n",
       "      <th>2020</th>\n",
       "      <td>30</td>\n",
       "      <td>2356</td>\n",
       "      <td>620</td>\n",
       "      <td>650</td>\n",
       "      <td>210</td>\n",
       "      <td>215</td>\n",
       "      <td>225</td>\n",
       "      <td>215</td>\n",
       "      <td>210</td>\n",
       "      <td>3</td>\n",
       "      <td>422</td>\n",
       "      <td>0</td>\n",
       "      <td>0</td>\n",
       "      <td>39</td>\n",
       "      <td>345</td>\n",
       "      <td>38</td>\n",
       "    </tr>\n",
       "  </tbody>\n",
       "</table>\n",
       "<p>2021 rows × 16 columns</p>\n",
       "</div>"
      ],
      "text/plain": [
       "      tik   yik     1     2    3    4     5    6    7   8    9  10  11   12  \\\n",
       "0       1     1  1803  1200  587   11   602   11  587  23  575   0   0  110   \n",
       "1       1     2  1466  1100  433   14   653   14  430  19  425   0   0   53   \n",
       "2       1     3  2092  1600  576   22  1002   22  576  15  583   0   0  155   \n",
       "3       1     4  1056  1000  318    4   678    4  318  13  309   0   0   67   \n",
       "4       1     5  1827  1400  495    8   897    8  493  16  485   0   0  137   \n",
       "...   ...   ...   ...   ...  ...  ...   ...  ...  ...  ..  ...  ..  ..  ...   \n",
       "2016   30  2350   284   300  166   53    81   53  166   0  219   0   0   21   \n",
       "2017   30  2351   132   150   86   27    37   27   86   2  111   0   0    7   \n",
       "2018   30  2352   320   350  217   23   110   23  217   4  236   0   0   20   \n",
       "2019   30  2355   485   500  335   12   153   12  335   2  345   0   0   23   \n",
       "2020   30  2356   620   650  210  215   225  215  210   3  422   0   0   39   \n",
       "\n",
       "       13   14  \n",
       "0     345  120  \n",
       "1     326   46  \n",
       "2     332   96  \n",
       "3     171   71  \n",
       "4     266   82  \n",
       "...   ...  ...  \n",
       "2016  184   14  \n",
       "2017   91   13  \n",
       "2018  193   23  \n",
       "2019  290   32  \n",
       "2020  345   38  \n",
       "\n",
       "[2021 rows x 16 columns]"
      ]
     },
     "execution_count": 2,
     "metadata": {},
     "output_type": "execute_result"
    }
   ],
   "source": [
    "df = pd.read_csv('dataframe.csv')  \n",
    "df"
   ]
  },
  {
   "cell_type": "markdown",
   "metadata": {},
   "source": [
    "1.  явку (%) по всем ТИК, результат отсортировать по убыванию"
   ]
  },
  {
   "cell_type": "code",
   "execution_count": 3,
   "metadata": {},
   "outputs": [
    {
     "data": {
      "text/plain": [
       "tik\n",
       "18    0.515312\n",
       "15    0.400131\n",
       "13    0.396726\n",
       "19    0.378124\n",
       "8     0.360410\n",
       "20    0.337806\n",
       "9     0.335220\n",
       "22    0.324863\n",
       "30    0.321020\n",
       "2     0.317879\n",
       "1     0.314833\n",
       "29    0.307705\n",
       "10    0.305174\n",
       "4     0.304318\n",
       "7     0.292541\n",
       "21    0.291382\n",
       "25    0.290209\n",
       "17    0.284400\n",
       "23    0.281938\n",
       "16    0.281914\n",
       "14    0.275225\n",
       "28    0.272246\n",
       "11    0.268771\n",
       "5     0.267538\n",
       "24    0.266540\n",
       "3     0.266205\n",
       "12    0.264102\n",
       "26    0.262648\n",
       "6     0.250084\n",
       "27    0.247923\n",
       "dtype: float64"
      ]
     },
     "execution_count": 3,
     "metadata": {},
     "output_type": "execute_result"
    }
   ],
   "source": [
    "((df.groupby('tik').sum()['3'] + df.groupby('tik').sum()['4']) / df.groupby('tik').sum()['1']).sort_values(ascending=False)"
   ]
  },
  {
   "cell_type": "markdown",
   "metadata": {},
   "source": [
    "2. выберите произвольного кандидата и найдите тот избиратльный участок, на котором он получил наибольший результат (%, учитывать участки на которых проголосовало больше 100 человек)"
   ]
  },
  {
   "cell_type": "code",
   "execution_count": 9,
   "metadata": {},
   "outputs": [
    {
     "data": {
      "text/plain": [
       "1085    0.432039\n",
       "1080    0.368946\n",
       "1089    0.367150\n",
       "1084    0.362590\n",
       "1401    0.359862\n",
       "          ...   \n",
       "1611         NaN\n",
       "1889         NaN\n",
       "1893         NaN\n",
       "2008         NaN\n",
       "2010         NaN\n",
       "Length: 2021, dtype: float64"
      ]
     },
     "execution_count": 9,
     "metadata": {},
     "output_type": "execute_result"
    }
   ],
   "source": [
    "(df['12'] / df['9']).where(df['9'] > 100).sort_values(ascending=False)"
   ]
  },
  {
   "cell_type": "code",
   "execution_count": 15,
   "metadata": {},
   "outputs": [
    {
     "data": {
      "text/plain": [
       "1085"
      ]
     },
     "execution_count": 15,
     "metadata": {},
     "output_type": "execute_result"
    }
   ],
   "source": [
    "(df['12'] / df['9']).where(df['9'] > 100).sort_values(ascending=False).idxmax()"
   ]
  },
  {
   "cell_type": "markdown",
   "metadata": {},
   "source": [
    "3. найдите ТИК, где разница между УИК с наибольшей явкой и наименьшей максимальна"
   ]
  },
  {
   "cell_type": "code",
   "execution_count": 9,
   "metadata": {},
   "outputs": [],
   "source": [
    "df_3 = pd.Series()\n",
    "for i in range(1, 31):\n",
    "    df_i = ((df.loc[df['tik'] == i]['3'] + df.loc[df['tik'] == i]['4'])/ df.loc[df['tik'] == i]['1'])\n",
    "    df_dif = df_i.max() - df_i.min()\n",
    "    df_3 = df_3.append(pd.Series(df_dif, index=[i]), ignore_index=False)"
   ]
  },
  {
   "cell_type": "code",
   "execution_count": 10,
   "metadata": {},
   "outputs": [
    {
     "data": {
      "text/plain": [
       "17    0.820420\n",
       "28    0.819788\n",
       "19    0.816304\n",
       "11    0.811447\n",
       "26    0.809816\n",
       "5     0.807387\n",
       "4     0.805240\n",
       "8     0.804721\n",
       "27    0.799875\n",
       "21    0.798544\n",
       "2     0.796371\n",
       "20    0.795551\n",
       "22    0.789563\n",
       "29    0.788658\n",
       "23    0.785972\n",
       "1     0.770264\n",
       "30    0.751394\n",
       "13    0.745098\n",
       "18    0.741768\n",
       "16    0.726408\n",
       "24    0.716071\n",
       "15    0.706949\n",
       "3     0.659203\n",
       "7     0.634323\n",
       "10    0.555662\n",
       "9     0.495934\n",
       "6     0.421085\n",
       "12    0.336739\n",
       "14    0.335579\n",
       "25    0.158715\n",
       "dtype: float64"
      ]
     },
     "execution_count": 10,
     "metadata": {},
     "output_type": "execute_result"
    }
   ],
   "source": [
    "df_3.sort_values(ascending=False)"
   ]
  },
  {
   "cell_type": "code",
   "execution_count": 11,
   "metadata": {},
   "outputs": [
    {
     "data": {
      "text/plain": [
       "17"
      ]
     },
     "execution_count": 11,
     "metadata": {},
     "output_type": "execute_result"
    }
   ],
   "source": [
    "df_3.idxmax()"
   ]
  },
  {
   "cell_type": "markdown",
   "metadata": {},
   "source": [
    "4. посчитайте дисперсию по явке для каждого ТИК (учитывать УИК)"
   ]
  },
  {
   "cell_type": "code",
   "execution_count": 12,
   "metadata": {},
   "outputs": [
    {
     "data": {
      "text/plain": [
       "1     0.019318\n",
       "2     0.046018\n",
       "3     0.007414\n",
       "4     0.022281\n",
       "5     0.013662\n",
       "6     0.002066\n",
       "7     0.007111\n",
       "8     0.025984\n",
       "9     0.011893\n",
       "10    0.007409\n",
       "11    0.023945\n",
       "12    0.003322\n",
       "13    0.039350\n",
       "14    0.003073\n",
       "15    0.041609\n",
       "16    0.011347\n",
       "17    0.032932\n",
       "18    0.023069\n",
       "19    0.020470\n",
       "20    0.017357\n",
       "21    0.031019\n",
       "22    0.045004\n",
       "23    0.058670\n",
       "24    0.027113\n",
       "25    0.000918\n",
       "26    0.021985\n",
       "27    0.020633\n",
       "28    0.039207\n",
       "29    0.024439\n",
       "30    0.052078\n",
       "dtype: float64"
      ]
     },
     "execution_count": 12,
     "metadata": {},
     "output_type": "execute_result"
    }
   ],
   "source": [
    "df_4 = pd.Series()\n",
    "for i in range(1, 31):\n",
    "    df_i = ((df.loc[df['tik'] == i]['3'] + df.loc[df['tik'] == i]['4'])/ df.loc[df['tik'] == i]['1'])\n",
    "    df_var = df_i.var()\n",
    "    df_4 = df_4.append(pd.Series(df_var, index=[i]), ignore_index=False)\n",
    "df_4"
   ]
  },
  {
   "cell_type": "markdown",
   "metadata": {},
   "source": [
    "5. для каждого кандидата посчитайте таблицу: результат (%, округленный до целого) - количество УИК, на которых кандидат получил данный результат"
   ]
  },
  {
   "cell_type": "code",
   "execution_count": 13,
   "metadata": {},
   "outputs": [
    {
     "data": {
      "text/plain": [
       "43.0      1\n",
       "37.0      2\n",
       "36.0      3\n",
       "35.0      1\n",
       "34.0      2\n",
       "33.0      7\n",
       "32.0      7\n",
       "31.0     15\n",
       "30.0     18\n",
       "29.0     17\n",
       "28.0     30\n",
       "27.0     40\n",
       "26.0     34\n",
       "25.0     50\n",
       "24.0     53\n",
       "23.0     61\n",
       "22.0     77\n",
       "21.0     77\n",
       "20.0    100\n",
       "19.0    107\n",
       "18.0    138\n",
       "17.0    139\n",
       "16.0    165\n",
       "15.0    129\n",
       "14.0    136\n",
       "13.0    121\n",
       "12.0    121\n",
       "11.0     86\n",
       "10.0     81\n",
       "9.0      62\n",
       "8.0      41\n",
       "7.0      32\n",
       "6.0      25\n",
       "5.0      15\n",
       "4.0      13\n",
       "3.0       2\n",
       "2.0       6\n",
       "1.0       6\n",
       "0.0       1\n",
       "dtype: int64"
      ]
     },
     "execution_count": 13,
     "metadata": {},
     "output_type": "execute_result"
    }
   ],
   "source": [
    "round(((df['12'] / df['9']) * 100)).value_counts().sort_index(ascending=False)"
   ]
  },
  {
   "cell_type": "code",
   "execution_count": 14,
   "metadata": {},
   "outputs": [
    {
     "data": {
      "text/plain": [
       "98.0    4\n",
       "96.0    1\n",
       "95.0    5\n",
       "94.0    2\n",
       "93.0    1\n",
       "       ..\n",
       "40.0    1\n",
       "39.0    3\n",
       "34.0    2\n",
       "32.0    1\n",
       "31.0    1\n",
       "Length: 62, dtype: int64"
      ]
     },
     "execution_count": 14,
     "metadata": {},
     "output_type": "execute_result"
    }
   ],
   "source": [
    "round(((df['13'] / df['9']) * 100)).value_counts().sort_index(ascending=False)"
   ]
  },
  {
   "cell_type": "code",
   "execution_count": 15,
   "metadata": {},
   "outputs": [
    {
     "data": {
      "text/plain": [
       "48.0      1\n",
       "45.0      1\n",
       "42.0      1\n",
       "41.0      1\n",
       "38.0      2\n",
       "37.0      2\n",
       "36.0      2\n",
       "35.0      5\n",
       "34.0      4\n",
       "33.0      3\n",
       "32.0      6\n",
       "31.0      5\n",
       "30.0      7\n",
       "29.0      9\n",
       "28.0      9\n",
       "27.0     15\n",
       "26.0     18\n",
       "25.0     28\n",
       "24.0     45\n",
       "23.0     83\n",
       "22.0    111\n",
       "21.0    134\n",
       "20.0    178\n",
       "19.0    178\n",
       "18.0    191\n",
       "17.0    200\n",
       "16.0    170\n",
       "15.0    131\n",
       "14.0     92\n",
       "13.0     77\n",
       "12.0     62\n",
       "11.0     48\n",
       "10.0     44\n",
       "9.0      43\n",
       "8.0      29\n",
       "7.0      20\n",
       "6.0      21\n",
       "5.0      16\n",
       "4.0       9\n",
       "3.0       9\n",
       "2.0       5\n",
       "1.0       4\n",
       "0.0       2\n",
       "dtype: int64"
      ]
     },
     "execution_count": 15,
     "metadata": {},
     "output_type": "execute_result"
    }
   ],
   "source": [
    "round(((df['14'] / df['9']) * 100)).value_counts().sort_index(ascending=False)"
   ]
  },
  {
   "cell_type": "markdown",
   "metadata": {},
   "source": [
    "6. визуализируйте отношение - явка на УИК  →  результат кандидата."
   ]
  },
  {
   "cell_type": "code",
   "execution_count": 16,
   "metadata": {},
   "outputs": [
    {
     "data": {
      "text/plain": [
       "array([0.33166944, 0.30491132, 0.28585086, ..., 0.75      , 0.71546392,\n",
       "       0.68548387])"
      ]
     },
     "execution_count": 16,
     "metadata": {},
     "output_type": "execute_result"
    }
   ],
   "source": [
    "x = ((df['3'] + df['4'])/ df['1']).values\n",
    "x"
   ]
  },
  {
   "cell_type": "code",
   "execution_count": 17,
   "metadata": {},
   "outputs": [
    {
     "data": {
      "text/plain": [
       "array([0.19130435, 0.12470588, 0.26586621, ..., 0.08474576, 0.06666667,\n",
       "       0.09241706])"
      ]
     },
     "execution_count": 17,
     "metadata": {},
     "output_type": "execute_result"
    }
   ],
   "source": [
    "y12 = (df['12'] / df['9']).values\n",
    "y13 = (df['13'] / df['9']).values\n",
    "y14 = (df['14'] / df['9']).values\n",
    "y12"
   ]
  },
  {
   "cell_type": "code",
   "execution_count": 18,
   "metadata": {},
   "outputs": [],
   "source": [
    "import matplotlib.pyplot as plt"
   ]
  },
  {
   "cell_type": "code",
   "execution_count": 19,
   "metadata": {},
   "outputs": [
    {
     "data": {
      "text/plain": [
       "Text(0, 0.5, 'результат кандидата')"
      ]
     },
     "execution_count": 19,
     "metadata": {},
     "output_type": "execute_result"
    },
    {
     "data": {
      "image/png": "[encoded data removed]",
      "text/plain": [
       "<Figure size 1332x756 with 1 Axes>"
      ]
     },
     "metadata": {
      "needs_background": "light"
     },
     "output_type": "display_data"
    }
   ],
   "source": [
    "fig = plt.figure()\n",
    "fig.set_size_inches(18.5, 10.5)\n",
    "plt.scatter(x, y12, c='g', s = 10)\n",
    "plt.scatter(x, y13, c='r', s = 10)\n",
    "plt.scatter(x, y14, c='b', s = 10)\n",
    "# plt.scatter(x, y12, y13, y14)\n",
    "plt.xlabel('явка на УИК') \n",
    "plt.ylabel('результат кандидата') "
   ]
  },
  {
   "cell_type": "code",
   "execution_count": null,
   "metadata": {},
   "outputs": [],
   "source": []
  }
 ],
 "metadata": {
  "kernelspec": {
   "display_name": "Python 3",
   "language": "python",
   "name": "python3"
  },
  "language_info": {
   "codemirror_mode": {
    "name": "ipython",
    "version": 3
   },
   "file_extension": ".py",
   "mimetype": "text/x-python",
   "name": "python",
   "nbconvert_exporter": "python",
   "pygments_lexer": "ipython3",
   "version": "3.7.2"
  }
 },
 "nbformat": 4,
 "nbformat_minor": 4
}
